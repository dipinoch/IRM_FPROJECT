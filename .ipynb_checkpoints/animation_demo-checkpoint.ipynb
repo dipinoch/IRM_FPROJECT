{
 "cells": [
  {
   "cell_type": "markdown",
   "metadata": {},
   "source": [
    "# MeshCat Animations\n",
    "\n",
    "MeshCat.jl also provides an animation interface, built on top of the [three.js animation system](https://threejs.org/docs/#manual/introduction/Animation-system). While it is possible to construct animation clips and tracks manually, just as you would in Three.js, it's generally easier to use the MeshCat `Animation` type.\n",
    "\n",
    "Let's show off building a simple animation. We first have to create our scene: "
   ]
  },
  {
   "cell_type": "code",
   "execution_count": 1,
   "metadata": {},
   "outputs": [],
   "source": [
    "import meshcat\n",
    "from meshcat.geometry import Box"
   ]
  },
  {
   "cell_type": "code",
   "execution_count": 2,
   "metadata": {},
   "outputs": [
    {
     "name": "stdout",
     "output_type": "stream",
     "text": [
      "You can open the visualizer by visiting the following URL:\n",
      "http://127.0.0.1:7001/static/\n"
     ]
    }
   ],
   "source": [
    "vis = meshcat.Visualizer()"
   ]
  },
  {
   "cell_type": "code",
   "execution_count": 7,
   "metadata": {},
   "outputs": [],
   "source": [
    "## To open the visualizer in a new browser tab, do: \n",
    "# vis.open()\n",
    "\n",
    "## To open the visualizer inside this jupyter notebook, do: \n",
    "# vis.jupyter_cell()"
   ]
  },
  {
   "cell_type": "code",
   "execution_count": 8,
   "metadata": {},
   "outputs": [],
   "source": [
    "vis[\"box1\"].set_object(Box([0.1, 0.2, 0.3]))"
   ]
  },
  {
   "cell_type": "markdown",
   "metadata": {},
   "source": [
    "### Building an Animation\n",
    "\n",
    "We construct an animation by first creating a blank `Animation()` object. We can then use the `at_frame` method to set properties or transforms of the animation at specific frames of the animation. Three.js will automatically interpolate between whatever values we provide. \n",
    "\n",
    "For example, let's animate moving the box from [0, 0, 0] to [0, 1, 0]: "
   ]
  },
  {
   "cell_type": "code",
   "execution_count": 9,
   "metadata": {},
   "outputs": [],
   "source": [
    "from meshcat.animation import Animation\n",
    "import meshcat.transformations as tf"
   ]
  },
  {
   "cell_type": "code",
   "execution_count": 10,
   "metadata": {},
   "outputs": [],
   "source": [
    "anim = Animation()\n",
    "\n",
    "with anim.at_frame(vis, 0) as frame:\n",
    "    # `frame` behaves like a Visualizer, in that we can\n",
    "    # call `set_transform` and `set_property` on it, but\n",
    "    # it just stores information inside the animation\n",
    "    # rather than changing the current visualization\n",
    "    frame[\"box1\"].set_transform(tf.translation_matrix([0, 0, 0]))\n",
    "with anim.at_frame(vis, 30) as frame:\n",
    "    frame[\"box1\"].set_transform(tf.translation_matrix([0, 1, 0]))\n",
    "    \n",
    "# `set_animation` actually sends the animation to the\n",
    "# viewer. By default, the viewer will play the animation\n",
    "# right away. To avoid that, you can also pass `play=false`. \n",
    "vis.set_animation(anim)"
   ]
  },
  {
   "cell_type": "markdown",
   "metadata": {},
   "source": [
    "You should see the box slide 1 meter to the right in the viewer. If you missed the animation, you can run it again from the viewer. Click \"Open Controls\", find the \"Animations\" section, and click \"play\". "
   ]
  },
  {
   "cell_type": "markdown",
   "metadata": {},
   "source": [
    "### Animating the Camera\n",
    "\n",
    "The camera is just another object in the MeshCat scene. To set its transform, we just need to index into the visualizer with the right path (note the leading `/`):"
   ]
  },
  {
   "cell_type": "code",
   "execution_count": 11,
   "metadata": {},
   "outputs": [],
   "source": [
    "vis[\"/Cameras/default\"].set_transform(tf.translation_matrix([0, 0, 1]))"
   ]
  },
  {
   "cell_type": "markdown",
   "metadata": {},
   "source": [
    "To animate the camera, we just have to do that same kind of `settransform!` to individual frames in an animation: "
   ]
  },
  {
   "cell_type": "code",
   "execution_count": 12,
   "metadata": {},
   "outputs": [],
   "source": [
    "anim = Animation()\n",
    "\n",
    "with anim.at_frame(vis, 0) as frame:\n",
    "    frame[\"/Cameras/default\"].set_transform(tf.translation_matrix([0, 0, 0]))\n",
    "with anim.at_frame(vis, 30) as frame:\n",
    "    frame[\"/Cameras/default\"].set_transform(tf.translation_matrix([0, 0, 1]))\n",
    "\n",
    "# we can repeat the animation playback with the \n",
    "# repetitions argument:\n",
    "vis.set_animation(anim, repetitions=2)"
   ]
  },
  {
   "cell_type": "markdown",
   "metadata": {},
   "source": [
    "We can also animate object properties. For example, let's animate the camera's `zoom` property to smoothly zoom out and then back in. Note that to do this, we have to access a deeper path in the visualizer to get to the actual camera object. For more information, see: https://github.com/rdeits/meshcat#camera-control"
   ]
  },
  {
   "cell_type": "code",
   "execution_count": 13,
   "metadata": {},
   "outputs": [],
   "source": [
    "anim = Animation()\n",
    "\n",
    "camera_path = \"/Cameras/default/rotated/<object>\"\n",
    "\n",
    "with anim.at_frame(vis, 0) as frame:\n",
    "    frame[camera_path].set_property(\"zoom\", \"number\", 1)\n",
    "with anim.at_frame(vis, 30) as frame:\n",
    "    frame[camera_path].set_property(\"zoom\", \"number\", 0.5)\n",
    "with anim.at_frame(vis, 60) as frame:\n",
    "    frame[camera_path].set_property(\"zoom\", \"number\", 1)\n",
    "    \n",
    "# While we're animating the camera zoom, we can also animate any other\n",
    "# properties we want. Let's simultaneously translate the box during \n",
    "# the same animation:\n",
    "with anim.at_frame(vis, 0) as frame:\n",
    "    frame[\"box1\"].set_transform(tf.translation_matrix([0, -1, 0]))\n",
    "with anim.at_frame(vis, 60) as frame:\n",
    "    frame[\"box1\"].set_transform(tf.translation_matrix([0, 1, 0]))\n",
    "\n",
    "vis.set_animation(anim)"
   ]
  },
  {
   "cell_type": "markdown",
   "metadata": {},
   "source": [
    "### Recording an Animation\n",
    "\n",
    "To record an animation at a smooth, fixed frame rate, click on \"Open Controls\" in the viewer, and then go to \"Animations\" -> \"default\" -> \"Recording\" -> \"record\". This will play the entire animation, recording every frame and then let you download the resulting frames to your computer. \n",
    "\n",
    "To record activity in the MeshCat window that isn't a MeshCat animation, we suggest using a screen-capture tool like Quicktime for macOS or RecordMyDesktop for Linux. "
   ]
  },
  {
   "cell_type": "markdown",
   "metadata": {},
   "source": [
    "### Converting the Animation into a Video\n",
    "\n",
    "Currently, meshcat can only save an animation as a `.tar` file consisting of a  list of `.png` images, one for each frame. To convert that into a video, you will need to install the `ffmpeg` program, and then you can run: "
   ]
  },
  {
   "cell_type": "code",
   "execution_count": 1,
   "metadata": {},
   "outputs": [],
   "source": [
    "from meshcat.animation import convert_frames_to_video"
   ]
  },
  {
   "cell_type": "code",
   "execution_count": 3,
   "metadata": {},
   "outputs": [
    {
     "name": "stdout",
     "output_type": "stream",
     "text": [
      "Saved output as /home/rdeits/locomotion/explorations/meshcat-distro/meshcat-python/output.mp4\n"
     ]
    }
   ],
   "source": [
    "convert_frames_to_video(\"/home/rdeits/Downloads/meshcat_1528401494656.tar\", overwrite=True)"
   ]
  },
  {
   "cell_type": "code",
   "execution_count": null,
   "metadata": {},
   "outputs": [],
   "source": []
  }
 ],
 "metadata": {
  "kernelspec": {
   "display_name": "Python 3",
   "language": "python",
   "name": "python3"
  },
  "language_info": {
   "codemirror_mode": {
    "name": "ipython",
    "version": 3
   },
   "file_extension": ".py",
   "mimetype": "text/x-python",
   "name": "python",
   "nbconvert_exporter": "python",
   "pygments_lexer": "ipython3",
   "version": "3.6.9"
  }
 },
 "nbformat": 4,
 "nbformat_minor": 2
}
