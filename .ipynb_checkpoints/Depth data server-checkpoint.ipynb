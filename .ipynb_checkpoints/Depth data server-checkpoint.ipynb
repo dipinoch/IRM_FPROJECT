{
 "cells": [
  {
   "cell_type": "markdown",
   "metadata": {},
   "source": [
    "# MeshCat Python"
   ]
  },
  {
   "cell_type": "markdown",
   "metadata": {},
   "source": [
    "###### first we need to import all the necessary libraries "
   ]
  },
  {
   "cell_type": "code",
   "execution_count": null,
   "metadata": {},
   "outputs": [
    {
     "name": "stdout",
     "output_type": "stream",
     "text": [
      "You can open the visualizer by visiting the following URL:\n",
      "http://127.0.0.1:7001/static/\n"
     ]
    }
   ],
   "source": [
    "import numpy as np\n",
    "import os\n",
    "import time\n",
    "import cv2\n",
    "import imagezmq\n",
    "import os\n",
    "import time\n",
    "import meshcat\n",
    "import meshcat.geometry as g\n",
    "import meshcat.transformations as tf\n",
    "from meshcat.animation import Animation\n",
    "\n",
    "image_hub = imagezmq.ImageHub(open_port='tcp://*:5556')\n",
    "vis = meshcat.Visualizer().open()\n",
    "\n",
    "#we use a while loop in order to. continue listen to the port to get deth data\n",
    "while True:  # show streamed images until Ctrl-C\n",
    "    \n",
    "    #we use meshcat animation in order to read and plot data in realtime\n",
    "    anim = Animation()\n",
    "    c=0\n",
    "    with anim.at_frame(vis, 0) as frame:\n",
    "        c=c+1 #counter that sets an infinite animation\n",
    "    \n",
    "    with anim.at_frame(vis, c) as frame:\n",
    "        #execute the animation\n",
    "        vis.set_animation(anim)\n",
    "        \n",
    "        #get camera data through server \n",
    "        cam_name, data = image_hub.recv_image()\n",
    "        image_hub.send_reply(b'OK') ##message of succesful reception\n",
    "        #transpose the matrix in order to get the right format for meshcat\n",
    "        verts= np.transpose(data)    \n",
    "        \n",
    "        #plot the points\n",
    "        vis.set_object(g.Points(\n",
    "            g.PointsGeometry(verts, color=verts),\n",
    "            g.PointsMaterial()\n",
    "        ))"
   ]
  }
 ],
 "metadata": {
  "kernelspec": {
   "display_name": "Python 3",
   "language": "python",
   "name": "python3"
  },
  "language_info": {
   "codemirror_mode": {
    "name": "ipython",
    "version": 3
   },
   "file_extension": ".py",
   "mimetype": "text/x-python",
   "name": "python",
   "nbconvert_exporter": "python",
   "pygments_lexer": "ipython3",
   "version": "3.6.9"
  }
 },
 "nbformat": 4,
 "nbformat_minor": 2
}
