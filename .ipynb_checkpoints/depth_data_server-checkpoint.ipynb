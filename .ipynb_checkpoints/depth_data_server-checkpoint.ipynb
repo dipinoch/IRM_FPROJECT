{
 "cells": [
  {
   "cell_type": "markdown",
   "metadata": {},
   "source": [
    "# Depth data server"
   ]
  },
  {
   "cell_type": "code",
   "execution_count": null,
   "metadata": {},
   "outputs": [
    {
     "name": "stdout",
     "output_type": "stream",
     "text": [
      "You can open the visualizer by visiting the following URL:\n",
      "http://127.0.0.1:7001/static/\n"
     ]
    }
   ],
   "source": [
    "#imports\n",
    "import cv2\n",
    "import imagezmq\n",
    "import numpy as np\n",
    "import os\n",
    "import time\n",
    "import meshcat\n",
    "import meshcat.geometry as g\n",
    "import meshcat.transformations as tf\n",
    "from meshcat.animation import Animation\n",
    "\n",
    "\n",
    "image_hub = imagezmq.ImageHub()\n",
    "vis = meshcat.Visualizer().open()\n",
    "\n",
    "while True:  # show streamed images until Ctrl-C\n",
    "    anim = Animation()\n",
    "    c=0\n",
    "    with anim.at_frame(vis, 0) as frame:\n",
    "        c=c+1\n",
    "    \n",
    "    with anim.at_frame(vis, c) as frame:\n",
    "        \n",
    "        # `set_animation` actually sends the animation to the\n",
    "        # viewer. By default, the viewer will play the animation\n",
    "        # right away. To avoid that, you can also pass `play=false`. \n",
    "        vis.set_animation(anim)\n",
    "        cam_name, data = image_hub.recv_image()\n",
    "        image_hub.send_reply(b'OK')\n",
    "        verts= np.transpose(data)    \n",
    "        vis.set_object(g.Points(\n",
    "            g.PointsGeometry(verts, color=verts),\n",
    "            g.PointsMaterial()\n",
    "        ))\n",
    "\n",
    "    "
   ]
  },
  {
   "cell_type": "markdown",
   "metadata": {},
   "source": [
    "To create a 3D object, we use the `set_object` method:"
   ]
  }
 ],
 "metadata": {
  "kernelspec": {
   "display_name": "Python 3",
   "language": "python",
   "name": "python3"
  },
  "language_info": {
   "codemirror_mode": {
    "name": "ipython",
    "version": 3
   },
   "file_extension": ".py",
   "mimetype": "text/x-python",
   "name": "python",
   "nbconvert_exporter": "python",
   "pygments_lexer": "ipython3",
   "version": "3.6.9"
  }
 },
 "nbformat": 4,
 "nbformat_minor": 2
}
